{
 "cells": [
  {
   "cell_type": "markdown",
   "metadata": {},
   "source": [
    "## kata 8 diccionario"
   ]
  },
  {
   "cell_type": "code",
   "execution_count": 10,
   "metadata": {},
   "outputs": [],
   "source": [
    "#usa llaves (``{ }``) y dos puntos (``:``) para indicar un diccionario                palabra clabe :    dentro de una variable mas grande \n",
    "\n",
    "planeta = {\n",
    "    'nombre': 'Earth',\n",
    "    'lunas': 1\n",
    "}"
   ]
  },
  {
   "cell_type": "code",
   "execution_count": 11,
   "metadata": {},
   "outputs": [
    {
     "name": "stdout",
     "output_type": "stream",
     "text": [
      "None\n",
      "Earth\n"
     ]
    }
   ],
   "source": [
    "\n",
    "\n",
    "\n",
    "print(planeta.get('nombree'))    #`.get`  para acceder a un valor mediante su clave                 si esta mal da NONE      es mejor usar get\n",
    "print(planeta['nombre'])         #puedes pasar la clave entre corchetes `[ ]` .en vez de  `get`     si esta mal marca error  es mas rapido de usar"
   ]
  },
  {
   "cell_type": "code",
   "execution_count": 26,
   "metadata": {},
   "outputs": [],
   "source": [
    "planet = {\n",
    "    'nombre': 'Mars',   \n",
    "    'lunas':42\n",
    "}"
   ]
  },
  {
   "cell_type": "code",
   "execution_count": 27,
   "metadata": {},
   "outputs": [
    {
     "name": "stdout",
     "output_type": "stream",
     "text": [
      "Mars tiene 42\n"
     ]
    }
   ],
   "source": [
    "print(planet.get('nombre'),'tiene', planet.get('lunas'))\n"
   ]
  },
  {
   "cell_type": "code",
   "execution_count": 37,
   "metadata": {},
   "outputs": [],
   "source": [
    "# Agrega la clave circunferencia con los datos proporcionados previamente\n",
    "circunferencia={\n",
    "    'polar':   6752 ,\n",
    "    'ecuatorial':  6792\n",
    "\n",
    "}"
   ]
  },
  {
   "cell_type": "code",
   "execution_count": 42,
   "metadata": {},
   "outputs": [
    {
     "name": "stdout",
     "output_type": "stream",
     "text": [
      "Mars tiene una circunferencia polar de: 6752 km y una circunferencia ecuatorial de: 6792 km\n"
     ]
    }
   ],
   "source": [
    "print(planet.get('nombre'),'tiene una circunferencia polar de:', circunferencia.get('polar'), 'km y una circunferencia ecuatorial de:', circunferencia.get('ecuatorial'), 'km')"
   ]
  },
  {
   "cell_type": "markdown",
   "metadata": {},
   "source": [
    "## ejercio 2  programacion dinamica con diccionario"
   ]
  },
  {
   "cell_type": "code",
   "execution_count": 46,
   "metadata": {},
   "outputs": [],
   "source": [
    "\n",
    "planet_moons = {\n",
    "    'mercury': 0,\n",
    "    'venus': 0,\n",
    "    'earth': 1,\n",
    "    'mars': 2,\n",
    "    'jupiter': 79,\n",
    "    'saturn': 82,\n",
    "    'uranus': 27,\n",
    "    'neptune': 14,\n",
    "    'pluto': 5,\n",
    "    'haumea': 2,\n",
    "    'makemake': 1,\n",
    "    'eris': 1\n",
    "}"
   ]
  },
  {
   "cell_type": "code",
   "execution_count": 52,
   "metadata": {},
   "outputs": [
    {
     "name": "stdout",
     "output_type": "stream",
     "text": [
      "Hay 214 lunas\n"
     ]
    }
   ],
   "source": [
    "#código para determinar el número de lunas.                      keys da palabra clave con su dato   values solo da el dato sin palabra clave \n",
    "\n",
    "total_lunas = 0                               \n",
    "for lunas in planet_moons.values():          #para X en planet_moon usamos value para sacar el valor : entonces al total valla agregando cada valor  \n",
    "    total_lunas = total_lunas + lunas\n",
    "\n",
    "print('Hay', total_lunas,'lunas')"
   ]
  }
 ],
 "metadata": {
  "interpreter": {
   "hash": "24e4e9fa0193be2fec45300aa20c71bd4bd7559f026db18502c22c080af5e925"
  },
  "kernelspec": {
   "display_name": "Python 3.10.2 64-bit",
   "language": "python",
   "name": "python3"
  },
  "language_info": {
   "codemirror_mode": {
    "name": "ipython",
    "version": 3
   },
   "file_extension": ".py",
   "mimetype": "text/x-python",
   "name": "python",
   "nbconvert_exporter": "python",
   "pygments_lexer": "ipython3",
   "version": "3.10.2"
  },
  "orig_nbformat": 4
 },
 "nbformat": 4,
 "nbformat_minor": 2
}
