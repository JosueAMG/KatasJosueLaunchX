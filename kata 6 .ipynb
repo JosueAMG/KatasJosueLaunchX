{
 "cells": [
  {
   "cell_type": "markdown",
   "metadata": {},
   "source": [
    "## kata6"
   ]
  },
  {
   "cell_type": "code",
   "execution_count": 20,
   "metadata": {},
   "outputs": [
    {
     "name": "stdout",
     "output_type": "stream",
     "text": [
      "El numero de planetas son: 8\n",
      "['Mercury', 'Venus', 'Earth', 'Mars', 'Jupiter', 'Saturn', 'Uranus', 'Neptune']\n"
     ]
    }
   ],
   "source": [
    " #Para crear lista,  secuencia de valores a una variable. Cada valor  separado por una coma y rodeado por corchetes (``[]``)\n",
    "\n",
    "\n",
    "planets = ['Mercury', 'Venus', 'Earth', 'Mars', 'Jupiter', 'Saturn', 'Uranus', 'Neptune']\n",
    "print(\"El numero de planetas son:\", len(planets) )              #\"\" , tenemos que marcar coma antes len()  elementos que tiene la lista\n",
    "print(planets)\n"
   ]
  },
  {
   "cell_type": "code",
   "execution_count": 21,
   "metadata": {},
   "outputs": [
    {
     "name": "stdout",
     "output_type": "stream",
     "text": [
      "se agrego Pluton a la lista\n",
      "['Mercury', 'Venus', 'Earth', 'Mars', 'Jupiter', 'Saturn', 'Uranus', 'Neptune', 'Pluton']\n"
     ]
    }
   ],
   "source": [
    "# agrgamos elemento a la lista  y mostramos el último elemento\n",
    "\n",
    "planets.append('Pluton')            #append() para insertar elementos en la lista (al FINAL)\n",
    "print(\"se agrego\", planets[-1], \"a la lista\")      #-1 siempre es el ultimo elemento en listas\n",
    "\n",
    "print(planets)     #para verificar "
   ]
  },
  {
   "cell_type": "markdown",
   "metadata": {},
   "source": [
    "## ejercicio 2 trabajar con datos de una lista"
   ]
  },
  {
   "cell_type": "code",
   "execution_count": 56,
   "metadata": {},
   "outputs": [],
   "source": [
    "# Lista de planetas\n",
    "planetas = ['Mercury', 'Venus', 'Earth', 'Mars', 'Jupiter', 'Saturn', 'Neptune']\n"
   ]
  },
  {
   "cell_type": "code",
   "execution_count": 58,
   "metadata": {},
   "outputs": [],
   "source": [
    "# Solicitamos el nombre de un planeta \n",
    "\n",
    "nombre_planeta = input(\"nombre del planeta: \")\n",
    "N_planeta_M=(nombre_planeta.title())            #. title()   para que lo combierta a mayusculas la primera letra\n"
   ]
  },
  {
   "cell_type": "code",
   "execution_count": 63,
   "metadata": {},
   "outputs": [
    {
     "name": "stdout",
     "output_type": "stream",
     "text": [
      "['Mercury', 'Venus', 'Earth'] esta mas cercano al sol que Mars\n",
      "['Jupiter', 'Saturn', 'Neptune'] esta mas alejado del sol que Mars\n"
     ]
    }
   ],
   "source": [
    "#Para determinar en qué parte de una lista se almacena un valor, utilizamos el método ``index()``\n",
    "\n",
    "planet_index = planets.index(N_planeta_M)          # para optwener el # del planeta\n",
    "print(planets[0:planet_index], \"esta mas cercano al sol que\" , N_planeta_M)\n",
    "print(planets[planet_index + 1:], \"esta mas alejado del sol que\", N_planeta_M)"
   ]
  }
 ],
 "metadata": {
  "interpreter": {
   "hash": "24e4e9fa0193be2fec45300aa20c71bd4bd7559f026db18502c22c080af5e925"
  },
  "kernelspec": {
   "display_name": "Python 3.10.2 64-bit",
   "language": "python",
   "name": "python3"
  },
  "language_info": {
   "codemirror_mode": {
    "name": "ipython",
    "version": 3
   },
   "file_extension": ".py",
   "mimetype": "text/x-python",
   "name": "python",
   "nbconvert_exporter": "python",
   "pygments_lexer": "ipython3",
   "version": "3.10.2"
  },
  "orig_nbformat": 4
 },
 "nbformat": 4,
 "nbformat_minor": 2
}
