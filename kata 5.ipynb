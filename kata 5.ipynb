{
 "cells": [
  {
   "cell_type": "markdown",
   "metadata": {},
   "source": [
    "## kata 5"
   ]
  },
  {
   "cell_type": "code",
   "execution_count": 10,
   "metadata": {},
   "outputs": [
    {
     "name": "stdout",
     "output_type": "stream",
     "text": [
      "17.366666666666667\n"
     ]
    }
   ],
   "source": [
    "seconds = 1042\n",
    "display_minutes = 1042 / 60     #  se usa   //   para divicion de piso o que rendodie los puntos decimales  en vez de /\n",
    "print(display_minutes)\n",
    "\n",
    "                             # operador módulo   %  \n",
    "                             # enteros int()       \n",
    "                             # flotante  float()   para .decimal\n",
    "                             #  abs ()    absoluto   sin signos \n",
    "                             #  round()     redondear un .deciaml\n",
    "\n",
    "                             #la biblioteca math. math   permite realizar redondeo con ``floor para abajo    y ``ceil  para arriba , proporcionar el valor de pi,"
   ]
  },
  {
   "cell_type": "code",
   "execution_count": 23,
   "metadata": {},
   "outputs": [],
   "source": [
    "#distancias de planetas: Tierra   149.597.870 km  y Júpiter 778.547.200 km#\n",
    "\n",
    "\n",
    "primer_planeta=149567870\n",
    "segundo_planeta = 778547200\n",
    "\n"
   ]
  },
  {
   "cell_type": "code",
   "execution_count": 67,
   "metadata": {},
   "outputs": [
    {
     "name": "stdout",
     "output_type": "stream",
     "text": [
      "628979330 Km\n",
      "390596164 millas\n"
     ]
    }
   ],
   "source": [
    "#calculamos la distancia con su diferencia y convetimos a millas *  0.621\n",
    "\n",
    "from math import ceil, floor       #importamos para redondear \n",
    "\n",
    "Distancia= abs( primer_planeta - segundo_planeta)     # abs () para que no muestre signos -\n",
    "print(str (Distancia) + \" Km\") \n",
    "\n",
    "#a milla\n",
    "millas= ( ceil ( Distancia* 0.621))            # o podemos poner int()  en vez de ceil() para ignorar el decimal  \n",
    "print (str(millas) + \" millas\")\n"
   ]
  },
  {
   "cell_type": "markdown",
   "metadata": {},
   "source": [
    "# ejercicio 2"
   ]
  },
  {
   "cell_type": "code",
   "execution_count": 76,
   "metadata": {},
   "outputs": [
    {
     "name": "stdout",
     "output_type": "stream",
     "text": [
      "50 Km\n",
      "32 millas\n"
     ]
    }
   ],
   "source": [
    "from math import ceil, floor       #importamos para redondear \n",
    "\n",
    "d_planeta1 = input(\"Distancia al sol primer planeta: \")\n",
    "d_planeta2 = input (\"distancia al sol segundo planeta: \")\n",
    "\n",
    "planeta1= int(d_planeta1)        # los pasamos a #\n",
    "planeta2= int(d_planeta2)\n",
    "\n",
    "distancia_p = abs(planeta1-planeta2)      #sacamos diferensia y usamos abs para evitar el signo por ser absolutos \n",
    "print(str (distancia_p) + \" Km\") \n",
    "\n",
    "d_millas= ( ceil ( distancia_p* 0.621))            # o podemos poner int()  en vez de ceil() para ignorar el decimal  \n",
    "print (str(d_millas) + \" millas\")"
   ]
  }
 ],
 "metadata": {
  "interpreter": {
   "hash": "24e4e9fa0193be2fec45300aa20c71bd4bd7559f026db18502c22c080af5e925"
  },
  "kernelspec": {
   "display_name": "Python 3.10.2 64-bit",
   "language": "python",
   "name": "python3"
  },
  "language_info": {
   "codemirror_mode": {
    "name": "ipython",
    "version": 3
   },
   "file_extension": ".py",
   "mimetype": "text/x-python",
   "name": "python",
   "nbconvert_exporter": "python",
   "pygments_lexer": "ipython3",
   "version": "3.10.2"
  },
  "orig_nbformat": 4
 },
 "nbformat": 4,
 "nbformat_minor": 2
}
