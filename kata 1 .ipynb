{
 "cells": [
  {
   "cell_type": "markdown",
   "metadata": {},
   "source": [
    "## kata 1"
   ]
  },
  {
   "cell_type": "code",
   "execution_count": 8,
   "metadata": {},
   "outputs": [
    {
     "name": "stdout",
     "output_type": "stream",
     "text": [
      "2022-02-12\n",
      "Hoy es : 2022-02-12\n"
     ]
    }
   ],
   "source": [
    "from datetime import date\n",
    "from sysconfig import parse_config_h             #asi Importamos la biblioteca   \n",
    "date.today()                          #Asi otenemos la fecha de hoy\n",
    "print(date.today())                   # usamos print para mostar la fecha\n",
    "\n",
    " \n",
    "                                         #para escibir hoy + fecha, convertir fecha en cadena. mediante  la función de utilidad   +  str(    ) \n",
    "print(\"Hoy es : \" + str(date.today()))         \n",
    "\n"
   ]
  },
  {
   "cell_type": "markdown",
   "metadata": {},
   "source": [
    "## Comnvertidor de unidades"
   ]
  },
  {
   "cell_type": "code",
   "execution_count": 12,
   "metadata": {},
   "outputs": [
    {
     "name": "stdout",
     "output_type": "stream",
     "text": [
      "comvertidor parsec a años luz\n",
      "11 parsec;   son 35.877159999999996 años luz\n"
     ]
    }
   ],
   "source": [
    "               \n",
    "print(\"comvertidor parsec a años luz\")\n",
    "parsec = 11\n",
    "añosluz = 3.26156 * parsec\n",
    "\n",
    "print(str(parsec) + \" parsec;   son \" + str(añosluz) + \" años luz\")\n",
    "\n",
    "\n"
   ]
  },
  {
   "cell_type": "code",
   "execution_count": 24,
   "metadata": {},
   "outputs": [
    {
     "name": "stdout",
     "output_type": "stream",
     "text": [
      "convertiodor parsec-años luz experimento input\n",
      "15parsecs son: 45 años luz\n"
     ]
    }
   ],
   "source": [
    " #kata con combertidor per con imput (experimento)\n",
    "\n",
    "print(\"convertiodor parsec-años luz experimento input\")\n",
    "\n",
    "parsec = input(\"Ingrese numero parsec:_ \")\n",
    "añosluz = 3.26156 \n",
    "resultado= int(parsec) * int(añosluz)\n",
    "                           #print(int(parsec) * int(añosluz)) \n",
    "print (str(parsec) + \"parsecs son: \" + str(resultado)+ \" años luz\")\n",
    "                                            "
   ]
  }
 ],
 "metadata": {
  "interpreter": {
   "hash": "24e4e9fa0193be2fec45300aa20c71bd4bd7559f026db18502c22c080af5e925"
  },
  "kernelspec": {
   "display_name": "Python 3.10.2 64-bit",
   "language": "python",
   "name": "python3"
  },
  "language_info": {
   "codemirror_mode": {
    "name": "ipython",
    "version": 3
   },
   "file_extension": ".py",
   "mimetype": "text/x-python",
   "name": "python",
   "nbconvert_exporter": "python",
   "pygments_lexer": "ipython3",
   "version": "3.10.2"
  },
  "orig_nbformat": 4
 },
 "nbformat": 4,
 "nbformat_minor": 2
}
