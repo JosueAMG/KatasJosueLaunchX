{
 "cells": [
  {
   "cell_type": "markdown",
   "metadata": {},
   "source": [
    "## Alerta de asteroides kata 3\n",
    "\n",
    "\n",
    "cualquier velocidad superior a 25 (km/s) merece una advertencia."
   ]
  },
  {
   "cell_type": "code",
   "execution_count": 12,
   "metadata": {},
   "outputs": [
    {
     "name": "stdout",
     "output_type": "stream",
     "text": [
      "!ALERTA asteroide a velocidad peligrosa¡\n"
     ]
    }
   ],
   "source": [
    "\n",
    "#velocidad_asteroide = input ('Velocidad el asteroide : ')\n",
    "\n",
    "velocidad_asteroide = 49\n",
    "\n",
    "if velocidad_asteroide >= 25:\n",
    "    print('!ALERTA asteroide a velocidad peligrosa¡')\n",
    "else:\n",
    "    print('sige con tu dia')\n"
   ]
  },
  {
   "cell_type": "code",
   "execution_count": 14,
   "metadata": {},
   "outputs": [
    {
     "name": "stdout",
     "output_type": "stream",
     "text": [
      "asteroide en el cielo\n"
     ]
    }
   ],
   "source": [
    "velocidad_asteroide = 19\n",
    "if velocidad_asteroide >= 20:\n",
    "    print('asteroide en el cielo')\n",
    "else:\n",
    "    print('ni voltes a ver el cielo no hay nada XD')\n",
    "\n"
   ]
  },
  {
   "cell_type": "code",
   "execution_count": 25,
   "metadata": {},
   "outputs": [
    {
     "name": "stdout",
     "output_type": "stream",
     "text": [
      "asteroide pequeño y a baja velocidad\n"
     ]
    }
   ],
   "source": [
    "#asteroides de menos de 25 metros en su dimensión más grande e se quemarán \n",
    "# más grande que 25m pero más pequeña que 1000m golpeara la Tierra, causaría mucho daño.\n",
    "\n",
    "velocidad_asteroide = 10\n",
    "tamaño_asteroide= 10\n",
    "\n",
    "if velocidad_asteroide > 20 and tamaño_asteroide > 25:                #si velasteroide > 20 y tamaño > 25 entonces:     las 2 deben cumplirce \n",
    "    print('!ALERTA asteroide a velocidad peligrosa¡')\n",
    "elif velocidad_asteroide >= 20:                                        #elif permite agregar varias expresiones de prueba si if es falsa\n",
    "    print('asteroide pequeño surcando el cielo a gran velocidad')         #si uno de los anterioes el falso se comprueba velocidad      \n",
    "elif tamaño_asteroide > 25:                                          #luego comprobamos en tamaño \n",
    "    print('asteroide grande a baja velocidad')\n",
    "else:    \n",
    "    print('asteroide pequeño y a baja velocidad')                 #si no cumple tamaño ni peso por defecto lo da  else: "
   ]
  }
 ],
 "metadata": {
  "interpreter": {
   "hash": "24e4e9fa0193be2fec45300aa20c71bd4bd7559f026db18502c22c080af5e925"
  },
  "kernelspec": {
   "display_name": "Python 3.10.2 64-bit",
   "language": "python",
   "name": "python3"
  },
  "language_info": {
   "codemirror_mode": {
    "name": "ipython",
    "version": 3
   },
   "file_extension": ".py",
   "mimetype": "text/x-python",
   "name": "python",
   "nbconvert_exporter": "python",
   "pygments_lexer": "ipython3",
   "version": "3.10.2"
  },
  "orig_nbformat": 4
 },
 "nbformat": 4,
 "nbformat_minor": 2
}
