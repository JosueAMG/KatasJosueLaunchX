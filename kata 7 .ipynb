{
 "cells": [
  {
   "cell_type": "markdown",
   "metadata": {},
   "source": [
    "## kata 7 creacion bucle\n"
   ]
  },
  {
   "cell_type": "code",
   "execution_count": 16,
   "metadata": {},
   "outputs": [],
   "source": [
    "new_planet=''      #variable que almacena el texto\n",
    "planets= []      # Creamos la lista que almacena cada uno de los textos que el usuario ingresa\n",
    "\n",
    "while new_planet.title() != 'Done' :           #mientras wile no sea iguala done entonces :\n",
    "    if new_planet :                  #para verificar que se escribio algo\n",
    "         planets.append (new_planet.title())                 #entonces agrega  a lista planet lo escrito en new planet\n",
    "    \n",
    "    new_planet = input('Nuevo planeta: ')                  #para capturar un vuevo valor "
   ]
  },
  {
   "cell_type": "code",
   "execution_count": 21,
   "metadata": {},
   "outputs": [
    {
     "name": "stdout",
     "output_type": "stream",
     "text": [
      "['Dfgfdg', 'Afgdfg']\n"
     ]
    }
   ],
   "source": [
    "print(planets)"
   ]
  },
  {
   "cell_type": "markdown",
   "metadata": {},
   "source": [
    "## ejercicio 2"
   ]
  },
  {
   "cell_type": "code",
   "execution_count": 27,
   "metadata": {},
   "outputs": [
    {
     "name": "stdout",
     "output_type": "stream",
     "text": [
      "Dfgfdg\n",
      "Afgdfg\n"
     ]
    }
   ],
   "source": [
    "\n",
    "for planeta in planets:                #muestra toda la lista n escalera\n",
    "    print(planeta)\n"
   ]
  }
 ],
 "metadata": {
  "interpreter": {
   "hash": "24e4e9fa0193be2fec45300aa20c71bd4bd7559f026db18502c22c080af5e925"
  },
  "kernelspec": {
   "display_name": "Python 3.10.2 64-bit",
   "language": "python",
   "name": "python3"
  },
  "language_info": {
   "codemirror_mode": {
    "name": "ipython",
    "version": 3
   },
   "file_extension": ".py",
   "mimetype": "text/x-python",
   "name": "python",
   "nbconvert_exporter": "python",
   "pygments_lexer": "ipython3",
   "version": "3.10.2"
  },
  "orig_nbformat": 4
 },
 "nbformat": 4,
 "nbformat_minor": 2
}
